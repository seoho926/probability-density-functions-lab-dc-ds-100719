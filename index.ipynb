{
 "cells": [
  {
   "cell_type": "markdown",
   "metadata": {},
   "source": [
    "# The Probability Density Function - Lab\n",
    "\n",
    "## Introduction\n",
    "In this lab, we will look at building visualizations known as **density plots** to estimate the probability density for a given set of data. \n",
    "\n",
    "## Objectives\n",
    "\n",
    "You will be able to:\n",
    "\n",
    "* Plot and interpret density plots and comment on the shape of the plot\n",
    "* Estimate probabilities for continuous variables by using interpolation \n",
    "\n",
    "\n",
    "## Let's get started\n",
    "\n",
    "Let's import the necessary libraries for this lab."
   ]
  },
  {
   "cell_type": "code",
   "execution_count": 1,
   "metadata": {},
   "outputs": [],
   "source": [
    "# Import required libraries\n",
    "import numpy as np\n",
    "import matplotlib.pyplot as plt\n",
    "plt.style.use('ggplot')\n",
    "import pandas as pd "
   ]
  },
  {
   "cell_type": "markdown",
   "metadata": {},
   "source": [
    "## Import the data, and calculate the mean and the standard deviation\n",
    "\n",
    "- Import the dataset 'weight-height.csv' as a pandas dataframe.\n",
    "\n",
    "- Next, calculate the mean and standard deviation for weights and heights for men and women individually. You can simply use the pandas `.mean()` and `.std()` to do so.\n",
    "\n",
    "**Hint**: Use your pandas dataframe subsetting skills like `loc()`, `iloc()`, and `groupby()`"
   ]
  },
  {
   "cell_type": "code",
   "execution_count": 9,
   "metadata": {},
   "outputs": [
    {
     "name": "stdout",
     "output_type": "stream",
     "text": [
      "Male Height mean: 69.02634590621737\n",
      "Male Height sd: 2.8633622286606517\n",
      "Male Weight mean: 187.0206206581929\n",
      "Male Weight sd: 19.781154516763813\n",
      "Female Height mean: 69.02634590621737\n",
      "Female Height sd: 2.8633622286606517\n",
      "Female Weight mean: 187.0206206581929\n",
      "Female Weight sd: 19.781154516763813\n"
     ]
    }
   ],
   "source": [
    "data = pd.read_csv('weight-height.csv')\n",
    "male_df = data.loc[data.Gender == \"Male\"]\n",
    "female_df = data.loc[data.Gender == \"Female\"]\n",
    "\n",
    "male_height_mean = male_df.Height.mean()\n",
    "print(\"Male Height mean:\", male_height_mean)\n",
    "male_height_sd = male_df.Height.std()\n",
    "print(\"Male Height sd:\", male_height_sd)\n",
    "male_weight_mean = male_df.Weight.mean()\n",
    "print(\"Male Weight mean:\", male_weight_mean)\n",
    "male_weight_sd = male_df.Weight.std()\n",
    "print(\"Male Weight sd:\", male_weight_sd)\n",
    "\n",
    "female_height_mean = female_df.Height.mean()\n",
    "print(\"Female Height mean:\", male_height_mean)\n",
    "female_height_sd = female_df.Height.std()\n",
    "print(\"Female Height sd:\", male_height_sd)\n",
    "female_weight_mean = female_df.Weight.mean()\n",
    "print(\"Female Weight mean:\", male_weight_mean)\n",
    "female_weight_sd = female_df.Weight.std()\n",
    "print(\"Female Weight sd:\", male_weight_sd)\n",
    "\n",
    "# Male Height mean: 69.02634590621737\n",
    "# Male Height sd: 2.8633622286606517\n",
    "# Male Weight mean: 187.0206206581929\n",
    "# Male Weight sd: 19.781154516763813\n",
    "# Female Height mean: 63.708773603424916\n",
    "# Female Height sd: 2.696284015765056\n",
    "# Female Weight mean: 135.8600930074687\n",
    "# Female Weight sd: 19.022467805319007"
   ]
  },
  {
   "cell_type": "markdown",
   "metadata": {},
   "source": [
    "## Plot histograms (with densities on the y-axis) for male and female heights \n",
    "\n",
    "- Make sure to create overlapping plots\n",
    "- Use binsize = 10, set alpha level so that overlap can be visualized"
   ]
  },
  {
   "cell_type": "code",
   "execution_count": 21,
   "metadata": {},
   "outputs": [
    {
     "data": {
      "image/png": "[encoded data removed]",
      "text/plain": [
       "<Figure size 432x288 with 1 Axes>"
      ]
     },
     "metadata": {
      "needs_background": "light"
     },
     "output_type": "display_data"
    }
   ],
   "source": [
    "# Your code here\n",
    "plt.hist(male_df.Height, bins=10, label=\"Male\", alpha=0.5)\n",
    "plt.hist(female_df.Height, bins=10, label=\"Female\", alpha=0.5)\n",
    "plt.legend()\n",
    "plt.title(\"Heights: Male vs Female\");"
   ]
  },
  {
   "cell_type": "code",
   "execution_count": 22,
   "metadata": {},
   "outputs": [],
   "source": [
    "# Record your observations - are these inline with your personal observations?\n",
    "# Yes, both are normally distributed and males generally have higher values (height)"
   ]
  },
  {
   "cell_type": "markdown",
   "metadata": {},
   "source": [
    "## Create a density function using interpolation\n",
    "\n",
    "\n",
    "- Write a density function density() that uses interpolation and takes in a random variable\n",
    "- Use `np.histogram()`\n",
    "- The function should return two lists carrying x and y coordinates for plotting the density function"
   ]
  },
  {
   "cell_type": "code",
   "execution_count": 25,
   "metadata": {},
   "outputs": [],
   "source": [
    "# def density(x):\n",
    "\n",
    "\n",
    "\n",
    "# # Generate test data and test the function - uncomment to run the test\n",
    "# np.random.seed(5)\n",
    "# mu, sigma = 0, 0.1 # mean and standard deviation\n",
    "# s = np.random.normal(mu, sigma, 100)\n",
    "# x,y = density(s)\n",
    "# plt.plot(x,y, label = 'test')\n",
    "# plt.legend()"
   ]
  },
  {
   "cell_type": "markdown",
   "metadata": {},
   "source": [
    "## Add overlapping density plots to the histograms plotted earlier"
   ]
  },
  {
   "cell_type": "code",
   "execution_count": null,
   "metadata": {},
   "outputs": [],
   "source": [
    "# Your code here "
   ]
  },
  {
   "cell_type": "markdown",
   "metadata": {},
   "source": [
    "## Repeat the above exercise for male and female weights"
   ]
  },
  {
   "cell_type": "code",
   "execution_count": null,
   "metadata": {},
   "outputs": [],
   "source": [
    "# Your code here "
   ]
  },
  {
   "cell_type": "markdown",
   "metadata": {},
   "source": [
    "## Write your observations in the cell below"
   ]
  },
  {
   "cell_type": "code",
   "execution_count": null,
   "metadata": {},
   "outputs": [],
   "source": [
    "# Record your observations - are these inline with your personal observations?\n",
    "\n",
    "\n",
    "# What is the takeaway when comparing male and female heights and weights?"
   ]
  },
  {
   "cell_type": "markdown",
   "metadata": {},
   "source": [
    "## Repeat the above experiments in seaborn and compare with your results"
   ]
  },
  {
   "cell_type": "code",
   "execution_count": null,
   "metadata": {},
   "outputs": [],
   "source": [
    "# Code for heights here"
   ]
  },
  {
   "cell_type": "code",
   "execution_count": null,
   "metadata": {},
   "outputs": [],
   "source": [
    "# Code for weights here"
   ]
  },
  {
   "cell_type": "code",
   "execution_count": null,
   "metadata": {},
   "outputs": [],
   "source": [
    "# Your comments on the two approaches here. \n",
    "# are they similar? what makes them different if they are?"
   ]
  },
  {
   "cell_type": "markdown",
   "metadata": {},
   "source": [
    "## Summary\n",
    "\n",
    "In this lesson, you learned how to build the probability density curves visually for a given dataset and compare the distributions visually by looking at the spread, center, and overlap. This is a useful EDA technique and can be used to answer some initial questions before embarking on a complex analytics journey."
   ]
  }
 ],
 "metadata": {
  "kernelspec": {
   "display_name": "Python 3",
   "language": "python",
   "name": "python3"
  },
  "language_info": {
   "codemirror_mode": {
    "name": "ipython",
    "version": 3
   },
   "file_extension": ".py",
   "mimetype": "text/x-python",
   "name": "python",
   "nbconvert_exporter": "python",
   "pygments_lexer": "ipython3",
   "version": "3.7.3"
  },
  "toc": {
   "base_numbering": 1,
   "nav_menu": {},
   "number_sections": true,
   "sideBar": true,
   "skip_h1_title": false,
   "title_cell": "Table of Contents",
   "title_sidebar": "Contents",
   "toc_cell": false,
   "toc_position": {},
   "toc_section_display": true,
   "toc_window_display": false
  }
 },
 "nbformat": 4,
 "nbformat_minor": 4
}
